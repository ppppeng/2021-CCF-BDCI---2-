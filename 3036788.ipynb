{
 "cells": [
  {
   "cell_type": "markdown",
   "metadata": {
    "collapsed": false
   },
   "source": [
    "# 2021 CCF BDCI基于飞桨实现花样滑冰选手骨骼点动作识别-第2名方案\n",
    "\n",
    "## 项目描述\n",
    "基于PaddleVideo的花样滑冰选手骨骼点动作识别项目\n",
    "\n",
    "## 项目整体架构\n",
    "![alt 项目整体架构](structure.png)\n",
    "\n",
    "## 环境要求\n",
    "* paddlevideo>=2.2.0\n",
    "* numpy\n",
    "* pandas\n",
    "* qdm\n",
    "* PyYAML>=5.1\n",
    "* opencv-python==4.2.0.32\n",
    "* decord==0.4.2\n",
    "* av==8.0.3\n",
    "\n",
    "运行以下命令安装必要环境"
   ]
  },
  {
   "cell_type": "code",
   "execution_count": null,
   "metadata": {
    "collapsed": false
   },
   "outputs": [
    {
     "name": "stdout",
     "output_type": "stream",
     "text": [
      "Looking in indexes: https://pypi.tuna.tsinghua.edu.cn/simple\n",
      "Requirement already satisfied: numpy in /opt/conda/envs/python35-paddle120-env/lib/python3.7/site-packages (from -r requirements.txt (line 1)) (1.20.3)\n",
      "Requirement already satisfied: pandas in /opt/conda/envs/python35-paddle120-env/lib/python3.7/site-packages (from -r requirements.txt (line 2)) (1.1.5)\n",
      "Requirement already satisfied: tqdm in /opt/conda/envs/python35-paddle120-env/lib/python3.7/site-packages (from -r requirements.txt (line 3)) (4.27.0)\n",
      "Requirement already satisfied: PyYAML>=5.1 in /opt/conda/envs/python35-paddle120-env/lib/python3.7/site-packages (from -r requirements.txt (line 4)) (5.1.2)\n",
      "Collecting opencv-python==4.2.0.32 (from -r requirements.txt (line 5))\n",
      "\u001b[?25l  Downloading https://pypi.tuna.tsinghua.edu.cn/packages/34/a3/403dbaef909fee9f9f6a8eaff51d44085a14e5bb1a1ff7257117d744986a/opencv_python-4.2.0.32-cp37-cp37m-manylinux1_x86_64.whl (28.2MB)\n",
      "\u001b[K     |████████████████████████████████| 28.2MB 6.4MB/s eta 0:00:011\n",
      "\u001b[?25hCollecting decord==0.4.2 (from -r requirements.txt (line 6))\n",
      "\u001b[?25l  Downloading https://pypi.tuna.tsinghua.edu.cn/packages/c0/0c/7d99cfcde7b85f80c9ea9b0b19441339ad3cef59ee7fa5386598db714efe/decord-0.4.2-py2.py3-none-manylinux1_x86_64.whl (11.8MB)\n",
      "\u001b[K     |████████████████████████████████| 11.8MB 6.5MB/s eta 0:00:01\n",
      "\u001b[?25hCollecting av==8.0.3 (from -r requirements.txt (line 7))\n",
      "\u001b[?25l  Downloading https://pypi.tuna.tsinghua.edu.cn/packages/66/ff/bacde7314c646a2bd2f240034809a10cc3f8b096751284d0828640fff3dd/av-8.0.3-cp37-cp37m-manylinux2010_x86_64.whl (37.2MB)\n",
      "\u001b[K     |████████████████████████████████| 37.2MB 294kB/s eta 0:00:01\n",
      "\u001b[?25hRequirement already satisfied: python-dateutil>=2.7.3 in /opt/conda/envs/python35-paddle120-env/lib/python3.7/site-packages (from pandas->-r requirements.txt (line 2)) (2.8.0)\n",
      "Requirement already satisfied: pytz>=2017.2 in /opt/conda/envs/python35-paddle120-env/lib/python3.7/site-packages (from pandas->-r requirements.txt (line 2)) (2019.3)\n",
      "Requirement already satisfied: six>=1.5 in /opt/conda/envs/python35-paddle120-env/lib/python3.7/site-packages (from python-dateutil>=2.7.3->pandas->-r requirements.txt (line 2)) (1.15.0)\n",
      "Installing collected packages: opencv-python, decord, av\n",
      "  Found existing installation: opencv-python 4.1.1.26\n",
      "    Uninstalling opencv-python-4.1.1.26:\n",
      "      Successfully uninstalled opencv-python-4.1.1.26\n",
      "Successfully installed av-8.0.3 decord-0.4.2 opencv-python-4.2.0.32\n",
      "Note: you may need to restart the kernel to use updated packages.\n"
     ]
    }
   ],
   "source": [
    "pip install -r requirements.txt"
   ]
  },
  {
   "cell_type": "markdown",
   "metadata": {
    "collapsed": false
   },
   "source": [
    "## 模型训练\n",
    "\n",
    "### 数据预处理\n",
    "\n",
    "(ipynb执行遇到问题请在终端中执行)\n"
   ]
  },
  {
   "cell_type": "code",
   "execution_count": null,
   "metadata": {
    "collapsed": false
   },
   "outputs": [],
   "source": [
    "%mv data/data118216/* data/"
   ]
  },
  {
   "cell_type": "code",
   "execution_count": null,
   "metadata": {
    "collapsed": false
   },
   "outputs": [
    {
     "name": "stdout",
     "output_type": "stream",
     "text": [
      "3036788.ipynb  readme(1).ipynb\treadme.md\t  structure.png  说明文档.docx\n",
      "data\t       readme.ipynb\trequirements.txt  work\n",
      "/home/aistudio\n",
      "/home/aistudio/work/PaddleVideo\n",
      "/home/aistudio/work/PaddleVideo\n"
     ]
    }
   ],
   "source": [
    "%cd work/PaddleVideo/\r\n",
    "%pwd"
   ]
  },
  {
   "cell_type": "code",
   "execution_count": null,
   "metadata": {
    "collapsed": false
   },
   "outputs": [
    {
     "name": "stdout",
     "output_type": "stream",
     "text": [
      "/home/aistudio\n",
      "python: can't open file 'data_process.py': [Errno 2] No such file or directory\n"
     ]
    }
   ],
   "source": [
    "!python data_process.py"
   ]
  },
  {
   "cell_type": "markdown",
   "metadata": {
    "collapsed": false
   },
   "source": [
    "note：请将data_process.py,主函数中base_path修改为您的数据集根目录,初始数据集目录如下所示    \n",
    "```\n",
    "|- base_path\n",
    "     |- train_data.npy\n",
    "     |- train_label.npy\n",
    "     |- test_B_data.npy     \n",
    "```\n",
    "预处理后目录如下所示\n",
    "```\n",
    "|- base_path\n",
    "    |- fixed1_fold\n",
    "        |- fold0_train_data.npy\n",
    "        |- fold0_train_label.npy\n",
    "        |- fold1_train_data.npy\n",
    "        |- fold1_train_label.npy\n",
    "        ...\n",
    "        |- fold5_train_data.npy\n",
    "        |- fold5_train_label.npy\n",
    "    |- fixed2_fold\n",
    "        |- fold0_train_data.npy\n",
    "        |- fold0_train_label.npy\n",
    "        |- fold1_train_data.npy\n",
    "        |- fold1_train_label.npy\n",
    "        ...\n",
    "        |- fold5_train_data.npy\n",
    "        |- fold5_train_label.npy\n",
    "    |- fixed1_train_data.npy\n",
    "    |- fixed2_train_data.npy\n",
    "    |- fixed1_test_B_data.npy       \n",
    "    |- fixed2_test_B_data.npy       \n",
    "    |- train_data.npy\n",
    "    |- train_label.npy\n",
    "    |- test_B_data.npy     \n",
    "```\n",
    "\n",
    "### 模型训练"
   ]
  },
  {
   "cell_type": "code",
   "execution_count": null,
   "metadata": {
    "collapsed": false
   },
   "outputs": [],
   "source": [
    "!python main.py --valid "
   ]
  },
  {
   "cell_type": "markdown",
   "metadata": {
    "collapsed": false
   },
   "source": [
    "note: 修改数据集根目录后，需要修改configs/recognition中用到的YAML文件的数据集路径。在main.py中定义了要训练的模型，有更改需求请自行修改。\n",
    "\n",
    "训练后权重会保存在output文件夹中"
   ]
  },
  {
   "cell_type": "code",
   "execution_count": null,
   "metadata": {
    "collapsed": false
   },
   "outputs": [],
   "source": [
    "!python main.py --test"
   ]
  },
  {
   "cell_type": "markdown",
   "metadata": {
    "collapsed": false
   },
   "source": [
    "对训练好的模型权重进行测试，生成对应的score.npy\n",
    "note: 对部分的模型进行了多尺度的测试，在main.py中有详细的定义\n",
    "\n",
    "### 模型后处理"
   ]
  },
  {
   "cell_type": "code",
   "execution_count": null,
   "metadata": {
    "collapsed": false
   },
   "outputs": [],
   "source": [
    "!python out_score.py"
   ]
  },
  {
   "cell_type": "markdown",
   "metadata": {
    "collapsed": false
   },
   "source": [
    "note: 在out_score中预定义了融合的参数\n",
    "\n",
    "执行命令在当前目录生成submission.csv\n",
    "\n",
    "## 模型复现\n",
    "\n",
    "模型权重文件在 data/目录下 output_backup.zip\n",
    "\n",
    "解压并复制里面权重到PaddleVideo/output内，此时运行测试再融合即可复现结果"
   ]
  },
  {
   "cell_type": "code",
   "execution_count": null,
   "metadata": {
    "collapsed": false
   },
   "outputs": [],
   "source": [
    "%cd /home/aistudio/work/PaddleVideo\r\n",
    "!unzip -o /home/aistudio/data/output_backup.zip\r\n",
    "%mv -b output_backup/* output\r\n",
    "\r\n",
    "!python main.py --test\r\n",
    "!python out_score.py"
   ]
  },
  {
   "cell_type": "markdown",
   "metadata": {
    "collapsed": false
   },
   "source": [
    "\n",
    "（注意：由于B榜提交有一个模型使用有误，将configs/recognition/ctrgcn_fold中的5个 yaml文件首段name:\"CTRGCN2\"改为name:\"CTRGCN\"即可复现）"
   ]
  }
 ],
 "metadata": {
  "kernelspec": {
   "display_name": "Python 3",
   "language": "python",
   "name": "py35-paddle1.2.0"
  },
  "language_info": {
   "codemirror_mode": {
    "name": "ipython",
    "version": 3
   },
   "file_extension": ".py",
   "mimetype": "text/x-python",
   "name": "python",
   "nbconvert_exporter": "python",
   "pygments_lexer": "ipython3",
   "version": "3.7.4"
  }
 },
 "nbformat": 4,
 "nbformat_minor": 1
}
